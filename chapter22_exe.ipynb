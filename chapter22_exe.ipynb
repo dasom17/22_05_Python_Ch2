{
  "nbformat": 4,
  "nbformat_minor": 0,
  "metadata": {
    "colab": {
      "provenance": [],
      "authorship_tag": "ABX9TyNTjgdSuJvSGVBOHm/NiXab",
      "include_colab_link": true
    },
    "kernelspec": {
      "name": "python3",
      "display_name": "Python 3"
    },
    "language_info": {
      "name": "python"
    }
  },
  "cells": [
    {
      "cell_type": "markdown",
      "metadata": {
        "id": "view-in-github",
        "colab_type": "text"
      },
      "source": [
        "<a href=\"https://colab.research.google.com/github/dasom17/22_05_Python_Ch2/blob/main/chapter22_exe.ipynb\" target=\"_parent\"><img src=\"https://colab.research.google.com/assets/colab-badge.svg\" alt=\"Open In Colab\"/></a>"
      ]
    },
    {
      "cell_type": "markdown",
      "source": [
        "(1) 사용자에게 이름과 나이를 입력하게 한다. 사용자가 100살이 되는 연도를 화면에 출력하는 프로그램을 작성하라."
      ],
      "metadata": {
        "id": "A5HNcfbCPjYj"
      }
    },
    {
      "cell_type": "code",
      "source": [
        "name = input(\"이름을 입력하시오.\")               \n",
        "age = int(input(\"나이를 입력하시오.\"))\n",
        "year = 2022 - age + 100\n",
        "print(name + \" 씨는 \" + str(year) + \"년에 100살입니다.\")"
      ],
      "metadata": {
        "colab": {
          "base_uri": "https://localhost:8080/"
        },
        "id": "dCSqgPuLPx1t",
        "outputId": "9fe6800b-1f7d-432a-dc15-611953058049"
      },
      "execution_count": 8,
      "outputs": [
        {
          "output_type": "stream",
          "name": "stdout",
          "text": [
            "이름을 입력하시오.노다솜\n",
            "나이를 입력하시오.20\n",
            "노다솜 씨는 2102년에 100살입니다.\n"
          ]
        }
      ]
    },
    {
      "cell_type": "markdown",
      "source": [
        "변수 name에 input 함수를 사용하여 사용자에게 입력받음\n",
        "변수 age에 int(정수형선언) 함수를 사용하여 사용자에게 나이를 입력받음\n",
        "변수 year에 현재 연도 - 변수(age) + 100\n",
        "*year 문자열은 더하기가 안 되므로 숫자형에서 문자열로 바꾸어주어야 함 -> str()\n",
        "**=> TypeError: can only concatenate str (not \"int\") to str**\n",
        "사용자에게 직접 입력을 하게 해주는 함수 input\n",
        "변수 age는 문자열이 아닌 정수형 변수를 받아야 하므로 int()를 입력\n",
        "문자와 숫자는 곱하기만 가능"
      ],
      "metadata": {
        "id": "REtxZ90kQeZH"
      }
    },
    {
      "cell_type": "markdown",
      "source": [
        "(2) 사용자로부터 3개의 숫자를 받아서 평균을 계산하라."
      ],
      "metadata": {
        "id": "BcjVJvAdTfZN"
      }
    },
    {
      "cell_type": "code",
      "source": [
        "x = int(input(\"정수 x를 입력하시오.\"))\n",
        "y = int(input(\"정수 y를 입력하시오.\"))\n",
        "z = int(input(\"정수 z를 입력하시오.\"))\n",
        "print((x+y+z)/3)"
      ],
      "metadata": {
        "colab": {
          "base_uri": "https://localhost:8080/"
        },
        "id": "MJjjOOzcTdvt",
        "outputId": "76de90e2-a38e-4fe1-a460-4a656ceb0f79"
      },
      "execution_count": 12,
      "outputs": [
        {
          "output_type": "stream",
          "name": "stdout",
          "text": [
            "정수 x를 입력하시오.3\n",
            "정수 y를 입력하시오.5\n",
            "정수 z를 입력하시오.4\n",
            "4.0\n"
          ]
        }
      ]
    },
    {
      "cell_type": "code",
      "source": [
        "n1 = int(input(\"첫번째 값을 입력하시오.\"))\n",
        "n2 = int(input(\"두번째 값을 입력하시오.\"))\n",
        "n3 = int(input(\"세번째 값을 입력하시오.\"))\n",
        "aver = (n1 + n2 + n3) / 3\n",
        "sum = n1 + n2 + n3\n",
        "print(n1, n2, n3, \"합은\", str(sum) + \"이고\", \"의 평균은\", aver, \"입니다.\")"
      ],
      "metadata": {
        "colab": {
          "base_uri": "https://localhost:8080/"
        },
        "id": "QgIA1GYEUMG3",
        "outputId": "36f9569a-88ba-42d2-e60f-b0af605edfc1"
      },
      "execution_count": 18,
      "outputs": [
        {
          "output_type": "stream",
          "name": "stdout",
          "text": [
            "첫번째 값을 입력하시오.10\n",
            "두번째 값을 입력하시오.20\n",
            "세번째 값을 입력하시오.30\n",
            "10 20 30 합은 60이고 의 평균은 20.0 입니다.\n"
          ]
        }
      ]
    },
    {
      "cell_type": "markdown",
      "source": [
        "(3) 사용자로부터 원의 반지름을 입력받아서 원의 면적을 계산하라."
      ],
      "metadata": {
        "id": "Y-Rfz0W1VhBw"
      }
    },
    {
      "cell_type": "code",
      "source": [
        "radius = int(input(\"반지름을 입력하시오.\"))\n",
        "area = 3.141592 * radius *radius\n",
        "print(\"반지름이\", radius,\"인 원의 넓이는 =\", area, \"입니다.\")"
      ],
      "metadata": {
        "colab": {
          "base_uri": "https://localhost:8080/"
        },
        "id": "krtb2kjxVmBI",
        "outputId": "968e75ec-3dfe-408e-b89d-b7b03ea83b4f"
      },
      "execution_count": 25,
      "outputs": [
        {
          "output_type": "stream",
          "name": "stdout",
          "text": [
            "반지름을 입력하시오.10\n",
            "반지름이 10 인 원의 넓이는 = 314.1592 입니다.\n"
          ]
        }
      ]
    }
  ]
}